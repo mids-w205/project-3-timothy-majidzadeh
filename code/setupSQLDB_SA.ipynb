{
 "cells": [
  {
   "cell_type": "markdown",
   "id": "3f465500",
   "metadata": {},
   "source": [
    "# Project 3 - Setup the Neo4j Graph DB of BART system\n",
    "\n",
    "\n",
    "University of California, Berkeley\n",
    "\n",
    "Master of Information and Data Science (MIDS) program\n",
    "\n",
    "w205 - Fundamentals of Data Engineering\n",
    "\n",
    "This borrows heavily from the Project 3 exercise code and solutions.\n",
    "\n"
   ]
  },
  {
   "cell_type": "markdown",
   "id": "3405ff0b",
   "metadata": {},
   "source": [
    "# BART Map"
   ]
  },
  {
   "cell_type": "markdown",
   "id": "ed89bd9e",
   "metadata": {},
   "source": [
    "![Bart Map](bart_map.png)"
   ]
  },
  {
   "cell_type": "markdown",
   "id": "33c6e20e",
   "metadata": {},
   "source": [
    "# Included Modules and Packages\n",
    "\n"
   ]
  },
  {
   "cell_type": "code",
   "execution_count": 1,
   "id": "530d745a",
   "metadata": {},
   "outputs": [],
   "source": [
    "import csv\n",
    "\n",
    "import math\n",
    "import numpy as np\n",
    "import pandas as pd\n",
    "\n",
    "import psycopg2"
   ]
  },
  {
   "cell_type": "markdown",
   "id": "c91c8869",
   "metadata": {},
   "source": [
    "# Supporting code\n",
    "\n",
    "\n",
    "Python code supporting the processing of data into and out of the CSV, SQL and Neo4J"
   ]
  },
  {
   "cell_type": "code",
   "execution_count": 2,
   "id": "8e09ebb0",
   "metadata": {},
   "outputs": [],
   "source": [
    "#\n",
    "# function to run a select query and return rows in a pandas dataframe\n",
    "# pandas puts all numeric values from postgres to float\n",
    "# if it will fit in an integer, change it to integer\n",
    "#\n",
    "\n",
    "def my_select_query_pandas(query, rollback_before_flag, rollback_after_flag):\n",
    "    \"function to run a select query and return rows in a pandas dataframe\"\n",
    "    \n",
    "    if rollback_before_flag:\n",
    "        connection.rollback()\n",
    "    \n",
    "    df = pd.read_sql_query(query, connection)\n",
    "    \n",
    "    if rollback_after_flag:\n",
    "        connection.rollback()\n",
    "    \n",
    "    # fix the float columns that really should be integers\n",
    "    \n",
    "    for column in df:\n",
    "    \n",
    "        if df[column].dtype == \"float64\":\n",
    "\n",
    "            fraction_flag = False\n",
    "\n",
    "            for value in df[column].values:\n",
    "                \n",
    "                if not np.isnan(value):\n",
    "                    if value - math.floor(value) != 0:\n",
    "                        fraction_flag = True\n",
    "\n",
    "            if not fraction_flag:\n",
    "                df[column] = df[column].astype('Int64')\n",
    "    \n",
    "    return(df)\n",
    "    "
   ]
  },
  {
   "cell_type": "code",
   "execution_count": 3,
   "id": "1f198d4d",
   "metadata": {},
   "outputs": [],
   "source": [
    "connection = psycopg2.connect(\n",
    "    user = \"postgres\",\n",
    "    password = \"ucb\",\n",
    "    host = \"postgres\",\n",
    "    port = \"5432\",\n",
    "    database = \"postgres\"\n",
    ")"
   ]
  },
  {
   "cell_type": "code",
   "execution_count": 4,
   "id": "dc7a762b",
   "metadata": {},
   "outputs": [],
   "source": [
    "cursor = connection.cursor()"
   ]
  },
  {
   "cell_type": "code",
   "execution_count": 5,
   "id": "8d7ad400",
   "metadata": {},
   "outputs": [],
   "source": [
    "def my_read_csv_file(file_name, limit):\n",
    "    \"read the csv file and print only the first limit rows\"\n",
    "    \n",
    "    csv_file = open(file_name, \"r\")\n",
    "    \n",
    "    csv_data = csv.reader(csv_file)\n",
    "    \n",
    "    i = 0\n",
    "    \n",
    "    for row in csv_data:\n",
    "        i += 1\n",
    "        if i <= limit:\n",
    "            print(row)\n",
    "            \n",
    "    print(\"\\nPrinted \", min(limit, i), \"lines of \", i, \"total lines.\")"
   ]
  },
  {
   "cell_type": "markdown",
   "id": "d2e6beed",
   "metadata": {},
   "source": [
    "# Drop all tables if they exist\n",
    "\n",
    "We're going to create tables stations, lines, travel_times from CSV files.  Drop them if the exist before we create them.\n"
   ]
  },
  {
   "cell_type": "code",
   "execution_count": 6,
   "id": "3d30a2c7",
   "metadata": {},
   "outputs": [],
   "source": [
    "connection.rollback()\n",
    "\n",
    "query = \"\"\"\n",
    "\n",
    "drop table if exists stations;\n",
    "drop table if exists lines;\n",
    "drop table if exists travel_times;\n",
    "\n",
    "\"\"\"\n",
    "\n",
    "cursor.execute(query)\n",
    "\n",
    "connection.commit()\n"
   ]
  },
  {
   "cell_type": "markdown",
   "id": "6c605bc0",
   "metadata": {},
   "source": [
    "# Create the stations, lines and travel_times tables\n",
    "\n",
    "The <b>stations table</b> should be named stations with the following columns:\n",
    "* station varchar(32)\n",
    "* latitude numeric(9,6)\n",
    "* longitude numeric(9,6)\n",
    "* transfer_time numeric(3) \n",
    "\n",
    "station should be the primary key\n",
    "\n",
    "This is a normal table, not a staging table\n",
    "\n",
    "transfer_time is in seconds.\n",
    "\n",
    "The <b>lines table</b> should be named lines with the following columns:\n",
    "\n",
    "* line varchar(6)\n",
    "* sequence numeric(2)\n",
    "* station varchar(32)\n",
    "\n",
    "line, sequence should be the composite primary key\n",
    "\n",
    "This is a normal table, not a staging table\n",
    "\n",
    "The stations in each line are listed in order going one direction. The lines move in both directions.  We will only store the data one way, as this is one of the rules of Third Normal Form (3NF).\n",
    "\n",
    "The <b>travel_times table</b> should be named travel_times with the following columns:\n",
    "\n",
    "station_1 varchar(32)\n",
    "station_2 varchar(32)\n",
    "travel_time numeric(3)\n",
    "station_1, station_2 should be the composite primary key\n",
    "\n",
    "This is a normal table, not a staging table\n",
    "\n",
    "Each entry shows the travel time between two stations, with station_1 alphabetically less than station_2.\n",
    "\n",
    "Travel time is the same from station_1 to station_2 as it is from station_2 to station_1.\n",
    "\n",
    "Each line has the same travel time between the same two stations.\n",
    "\n",
    "travel_time is in seconds."
   ]
  },
  {
   "cell_type": "code",
   "execution_count": 7,
   "id": "c23f9e13",
   "metadata": {},
   "outputs": [],
   "source": [
    "connection.rollback()\n",
    "\n",
    "query = \"\"\"\n",
    "\n",
    "create table stations (\n",
    "  station varchar(32),\n",
    "  latitude numeric(9,6),\n",
    "  longitude numeric(9,6),\n",
    "  transfer_time numeric(3)\n",
    ");\n",
    "\n",
    "create table lines (\n",
    "  line varchar(6),\n",
    "  sequence numeric(2),\n",
    "  station varchar(32)\n",
    ");\n",
    "\n",
    "create table travel_times (\n",
    "  station_1 varchar(32),\n",
    "  station_2 varchar(32),\n",
    "  travel_time numeric(3)\n",
    ");\n",
    "\n",
    "\n",
    "\"\"\"\n",
    "\n",
    "cursor.execute(query)\n",
    "\n",
    "connection.commit()"
   ]
  },
  {
   "cell_type": "markdown",
   "id": "c31ed590",
   "metadata": {},
   "source": [
    "# Load stations data into database table\n",
    "\n",
    "Load the stations, lines and travel_times CSV files into the database tables"
   ]
  },
  {
   "cell_type": "code",
   "execution_count": 8,
   "id": "481c947b",
   "metadata": {},
   "outputs": [
    {
     "ename": "UndefinedFile",
     "evalue": "could not open file \"/user/projects/project-3-theOG-DS/exercise/stations.csv\" for reading: No such file or directory\nHINT:  COPY FROM instructs the PostgreSQL server process to read a file. You may want a client-side facility such as psql's \\copy.\n",
     "output_type": "error",
     "traceback": [
      "\u001b[0;31m---------------------------------------------------------------------------\u001b[0m",
      "\u001b[0;31mUndefinedFile\u001b[0m                             Traceback (most recent call last)",
      "\u001b[0;32m/tmp/ipykernel_74/394744609.py\u001b[0m in \u001b[0;36m<module>\u001b[0;34m\u001b[0m\n\u001b[1;32m     15\u001b[0m \"\"\"\n\u001b[1;32m     16\u001b[0m \u001b[0;34m\u001b[0m\u001b[0m\n\u001b[0;32m---> 17\u001b[0;31m \u001b[0mcursor\u001b[0m\u001b[0;34m.\u001b[0m\u001b[0mexecute\u001b[0m\u001b[0;34m(\u001b[0m\u001b[0mquery\u001b[0m\u001b[0;34m)\u001b[0m\u001b[0;34m\u001b[0m\u001b[0;34m\u001b[0m\u001b[0m\n\u001b[0m\u001b[1;32m     18\u001b[0m \u001b[0;34m\u001b[0m\u001b[0m\n\u001b[1;32m     19\u001b[0m \u001b[0mconnection\u001b[0m\u001b[0;34m.\u001b[0m\u001b[0mcommit\u001b[0m\u001b[0;34m(\u001b[0m\u001b[0;34m)\u001b[0m\u001b[0;34m\u001b[0m\u001b[0;34m\u001b[0m\u001b[0m\n",
      "\u001b[0;31mUndefinedFile\u001b[0m: could not open file \"/user/projects/project-3-theOG-DS/exercise/stations.csv\" for reading: No such file or directory\nHINT:  COPY FROM instructs the PostgreSQL server process to read a file. You may want a client-side facility such as psql's \\copy.\n"
     ]
    }
   ],
   "source": [
    "connection.rollback()\n",
    "\n",
    "query = \"\"\"\n",
    "\n",
    "copy stations (station, latitude, longitude, transfer_time)\n",
    "from '/user/projects/project-3-theOG-DS/exercise/stations.csv' delimiter ',' NULL '' csv header;\n",
    "\n",
    "copy Lines (line, sequence, station)\n",
    "from '/user/projects/project-3-theOG-DS/exercise/lines.csv' delimiter ',' NULL '' csv header;\n",
    "\n",
    "copy travel_times (station_1, station_2, travel_time)\n",
    "from '/user/projects/project-3-theOG-DS/exercise/travel_times.csv' delimiter ',' NULL '' csv header;\n",
    "\n",
    "\n",
    "\"\"\"\n",
    "\n",
    "cursor.execute(query)\n",
    "\n",
    "connection.commit()"
   ]
  },
  {
   "cell_type": "markdown",
   "id": "6f844d1e",
   "metadata": {},
   "source": [
    "# 3.1.13 Verify the stations loaded correctly\n",
    "\n",
    "Write a query to verify the stations loaded correctly\n",
    "\n",
    "Select all columns and all rows from the table stations\n",
    "\n",
    "Sort by station\n",
    "\n",
    "Display the results in a Pandas data frame\n",
    "\n",
    "The query should return 50 rows into a Pandas dataframe. The first and last rows should look similar to this: \n",
    "\n",
    "||station|latitude|longitude|transfer_time|\n",
    "|---|---|---|---|---|\n",
    "|0|12th Street|37.803608|-122.272006|282|\n",
    "|...|...|...|...|...|\n",
    "|49|West Oakland|37.8049|-122.2951|283|"
   ]
  },
  {
   "cell_type": "code",
   "execution_count": null,
   "id": "28ad8dd6",
   "metadata": {},
   "outputs": [],
   "source": [
    "rollback_before_flag = True\n",
    "rollback_after_flag = True\n",
    "\n",
    "query = \"\"\"\n",
    "\n",
    "select * from stations\n",
    "\n",
    "\"\"\"\n",
    "\n",
    "my_select_query_pandas(query, rollback_before_flag, rollback_after_flag)"
   ]
  },
  {
   "cell_type": "markdown",
   "id": "0d951dff",
   "metadata": {},
   "source": [
    "# 3.1.14 Verify the lines loaded correctly\n",
    "\n",
    "Write a query to verify the lines loaded correctly\n",
    "\n",
    "Select all columns and all rows from the table lines\n",
    "\n",
    "Sort by lines, sequence\n",
    "\n",
    "Display the results in a Pandas data frame\n",
    "\n",
    "The query should return 114 rows into a Pandas dataframe. The first and last rows should look similar to this: \n",
    "\n",
    "||line|sequence|station|\n",
    "|---|---|---|---|\n",
    "|0|blue|1|Dublin|\n",
    "|...|...|...|...|\n",
    "|113|yellow|27|SFO|"
   ]
  },
  {
   "cell_type": "code",
   "execution_count": null,
   "id": "462f5115",
   "metadata": {},
   "outputs": [],
   "source": [
    "rollback_before_flag = True\n",
    "rollback_after_flag = True\n",
    "\n",
    "query = \"\"\"\n",
    "\n",
    "select * from lines\n",
    "\n",
    "\"\"\"\n",
    "\n",
    "my_select_query_pandas(query, rollback_before_flag, rollback_after_flag)"
   ]
  },
  {
   "cell_type": "markdown",
   "id": "c98472cf",
   "metadata": {},
   "source": [
    "# 3.1.15 Verify the travel times loaded correctly\n",
    "\n",
    "Write a query to verify the travel times loaded correctly \n",
    "\n",
    "Select all columns and all rows from the travel_times\n",
    "\n",
    "Sort by station_1, station_2\n",
    "\n",
    "Display the results in a Pandas data frame\n",
    "\n",
    "The query should return 51 rows into a Pandas dataframe. The first and last rows should look similar to this: \n",
    "\n",
    "||station_1|station_2|travel_time|\n",
    "|---|---|---|---|\n",
    "|0|12th Street|19th Street|120|\n",
    "|...|...|...|...|\n",
    "|50|South Hayward|Union City|300|"
   ]
  },
  {
   "cell_type": "code",
   "execution_count": null,
   "id": "a624ca1f",
   "metadata": {},
   "outputs": [],
   "source": [
    "rollback_before_flag = True\n",
    "rollback_after_flag = True\n",
    "\n",
    "query = \"\"\"\n",
    "\n",
    "select * from travel_times\n",
    "\n",
    "\"\"\"\n",
    "\n",
    "my_select_query_pandas(query, rollback_before_flag, rollback_after_flag)"
   ]
  },
  {
   "cell_type": "code",
   "execution_count": null,
   "id": "e68f094c",
   "metadata": {},
   "outputs": [],
   "source": []
  }
 ],
 "metadata": {
  "kernelspec": {
   "display_name": "Python 3 (ipykernel)",
   "language": "python",
   "name": "python3"
  },
  "language_info": {
   "codemirror_mode": {
    "name": "ipython",
    "version": 3
   },
   "file_extension": ".py",
   "mimetype": "text/x-python",
   "name": "python",
   "nbconvert_exporter": "python",
   "pygments_lexer": "ipython3",
   "version": "3.9.7"
  }
 },
 "nbformat": 4,
 "nbformat_minor": 5
}
