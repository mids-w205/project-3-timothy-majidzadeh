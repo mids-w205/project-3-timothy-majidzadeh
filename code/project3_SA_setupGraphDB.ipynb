{
 "cells": [
  {
   "cell_type": "markdown",
   "id": "3f465500",
   "metadata": {},
   "source": [
    "# Project 3 - Setup Graph DB from SQL DB of BART stations\n",
    "\n",
    "University of California, Berkeley\n",
    "\n",
    "Master of Information and Data Science (MIDS) program\n",
    "\n",
    "w205 - Fundamentals of Data Engineering\n"
   ]
  },
  {
   "cell_type": "markdown",
   "id": "33c6e20e",
   "metadata": {},
   "source": [
    "# Included Modules and Packages\n",
    "\n",
    "Import of interest here is the graph DB neo4j"
   ]
  },
  {
   "cell_type": "code",
   "execution_count": 1,
   "id": "530d745a",
   "metadata": {},
   "outputs": [],
   "source": [
    "import neo4j\n",
    "\n",
    "import csv\n",
    "\n",
    "import math\n",
    "import numpy as np\n",
    "import pandas as pd\n",
    "\n",
    "import psycopg2"
   ]
  },
  {
   "cell_type": "markdown",
   "id": "c91c8869",
   "metadata": {},
   "source": [
    "# Supporting code\n",
    "\n",
    "Python code to facilitate loading the Neo4j DB and reviewing results.\n",
    "Our queries are written in neo4j style (i.e., NoSQL) rather than SQL here."
   ]
  },
  {
   "cell_type": "code",
   "execution_count": 2,
   "id": "ecf679ef",
   "metadata": {},
   "outputs": [],
   "source": [
    "driver = neo4j.GraphDatabase.driver(uri=\"neo4j://neo4j:7687\", auth=(\"neo4j\",\"ucb_mids_w205\"))"
   ]
  },
  {
   "cell_type": "code",
   "execution_count": 3,
   "id": "99f22542",
   "metadata": {},
   "outputs": [],
   "source": [
    "session = driver.session(database=\"neo4j\")"
   ]
  },
  {
   "cell_type": "code",
   "execution_count": 4,
   "id": "0f1ae4f7",
   "metadata": {},
   "outputs": [],
   "source": [
    "def my_neo4j_wipe_out_database():\n",
    "    \"wipe out database by deleting all nodes and relationships\"\n",
    "    \n",
    "    query = \"match (node)-[relationship]->() delete node, relationship\"\n",
    "    session.run(query)\n",
    "    \n",
    "    query = \"match (node) delete node\"\n",
    "    session.run(query)"
   ]
  },
  {
   "cell_type": "code",
   "execution_count": 5,
   "id": "1c52ad4e",
   "metadata": {},
   "outputs": [],
   "source": [
    "def my_neo4j_run_query_pandas(query, **kwargs):\n",
    "    \"run a query and return the results in a pandas dataframe\"\n",
    "    \n",
    "    result = session.run(query, **kwargs)\n",
    "    \n",
    "    df = pd.DataFrame([r.values() for r in result], columns=result.keys())\n",
    "    \n",
    "    return df"
   ]
  },
  {
   "cell_type": "code",
   "execution_count": 6,
   "id": "e4ef5b0a",
   "metadata": {},
   "outputs": [],
   "source": [
    "def my_neo4j_number_nodes_relationships():\n",
    "    \"print the number of nodes and relationships\"\n",
    "   \n",
    "    \n",
    "    query = \"\"\"\n",
    "        match (n) \n",
    "        return n.name as node_name, labels(n) as labels\n",
    "        order by n.name\n",
    "    \"\"\"\n",
    "    \n",
    "    df = my_neo4j_run_query_pandas(query)\n",
    "    \n",
    "    number_nodes = df.shape[0]\n",
    "    \n",
    "    \n",
    "    query = \"\"\"\n",
    "        match (n1)-[r]->(n2) \n",
    "        return n1.name as node_name_1, labels(n1) as node_1_labels, \n",
    "            type(r) as relationship_type, n2.name as node_name_2, labels(n2) as node_2_labels\n",
    "        order by node_name_1, node_name_2\n",
    "    \"\"\"\n",
    "    \n",
    "    df = my_neo4j_run_query_pandas(query)\n",
    "    \n",
    "    number_relationships = df.shape[0]\n",
    "    \n",
    "    print(\"-------------------------\")\n",
    "    print(\"  Nodes:\", number_nodes)\n",
    "    print(\"  Relationships:\", number_relationships)\n",
    "    print(\"-------------------------\")\n"
   ]
  },
  {
   "cell_type": "code",
   "execution_count": 7,
   "id": "25a71732",
   "metadata": {},
   "outputs": [],
   "source": [
    "def my_neo4j_create_node(station_name):\n",
    "    \"create a node with label Station\"\n",
    "    \n",
    "    query = \"\"\"\n",
    "    \n",
    "    CREATE (:Station {name: $station_name})\n",
    "    \n",
    "    \"\"\"\n",
    "    \n",
    "    session.run(query, station_name=station_name)\n",
    "    "
   ]
  },
  {
   "cell_type": "code",
   "execution_count": 8,
   "id": "1cf6adec",
   "metadata": {},
   "outputs": [],
   "source": [
    "def my_neo4j_create_relationship_one_way(from_station, to_station, weight):\n",
    "    \"create a relationship one way between two stations with a weight\"\n",
    "    \n",
    "    query = \"\"\"\n",
    "    \n",
    "    MATCH (from:Station), \n",
    "          (to:Station)\n",
    "    WHERE from.name = $from_station and to.name = $to_station\n",
    "    CREATE (from)-[:LINK {weight: $weight}]->(to)\n",
    "    \n",
    "    \"\"\"\n",
    "    \n",
    "    session.run(query, from_station=from_station, to_station=to_station, weight=weight)\n",
    "    "
   ]
  },
  {
   "cell_type": "code",
   "execution_count": 9,
   "id": "990812de",
   "metadata": {},
   "outputs": [],
   "source": [
    "def my_neo4j_create_relationship_two_way(from_station, to_station, weight):\n",
    "    \"create relationships two way between two stations with a weight\"\n",
    "    \n",
    "    query = \"\"\"\n",
    "    \n",
    "    MATCH (from:Station), \n",
    "          (to:Station)\n",
    "    WHERE from.name = $from_station and to.name = $to_station\n",
    "    CREATE (from)-[:LINK {weight: $weight}]->(to),\n",
    "           (to)-[:LINK {weight: $weight}]->(from)\n",
    "    \n",
    "    \"\"\"\n",
    "    \n",
    "    session.run(query, from_station=from_station, to_station=to_station, weight=weight)\n",
    "    "
   ]
  },
  {
   "cell_type": "code",
   "execution_count": 10,
   "id": "1f198d4d",
   "metadata": {},
   "outputs": [],
   "source": [
    "connection = psycopg2.connect(\n",
    "    user = \"postgres\",\n",
    "    password = \"ucb\",\n",
    "    host = \"postgres\",\n",
    "    port = \"5432\",\n",
    "    database = \"postgres\"\n",
    ")"
   ]
  },
  {
   "cell_type": "code",
   "execution_count": 11,
   "id": "dc7a762b",
   "metadata": {},
   "outputs": [],
   "source": [
    "cursor = connection.cursor()"
   ]
  },
  {
   "cell_type": "markdown",
   "id": "d2e6beed",
   "metadata": {},
   "source": [
    "# Introduction \n",
    "\n",
    "We will now go step by step through the process of creating a graph database in Neo4j for the BART sytem. \n",
    "\n",
    "We will use some of the queries in 3.2 to pull the needed data in the right format to create nodes and relationships in our Neo4j graph database\n",
    "\n",
    "We will use the functions created above to create the nodes and relationships:\n",
    "* my_neo4j_create_node() - creates a node with label Station\n",
    "* my_neo4j_create_relationship_one_way() - creates a relationship one way between two stations with a weight\n",
    "* my_neo4j_create_relationship_two_way() - create relationships two way between two stations with a weight\n",
    "\n",
    "The way we create it might seem a bit strange at first. However, we want to be able to use the canned Neo4j Graph Data Science algorithms, and this design allows us to do so."
   ]
  },
  {
   "cell_type": "markdown",
   "id": "57739c2f",
   "metadata": {},
   "source": [
    "# Wipe Out and Verify Neo4j database\n",
    "\n",
    "Ensure we're starting clean."
   ]
  },
  {
   "cell_type": "code",
   "execution_count": 12,
   "id": "f0d8fd12",
   "metadata": {},
   "outputs": [
    {
     "name": "stdout",
     "output_type": "stream",
     "text": [
      "-------------------------\n",
      "  Nodes: 0\n",
      "  Relationships: 0\n",
      "-------------------------\n"
     ]
    }
   ],
   "source": [
    "my_neo4j_wipe_out_database()\n",
    "my_neo4j_number_nodes_relationships()"
   ]
  },
  {
   "cell_type": "markdown",
   "id": "1c3d5836",
   "metadata": {},
   "source": [
    "# Query the list of stations and create the departure and arrival nodes in the graph\n",
    "\n",
    "Use the query from 3.2.1 \"Query the list of stations\"\n",
    "\n",
    "For each station X, create two nodes:\n",
    "* depart X\n",
    "* arrive X\n",
    "\n",
    "Use the function my_neo4j_create_node() defined above\n",
    "\n",
    "For example, West Oakland:\n",
    "* my_neo4j_create_node('depart West Oakland')\n",
    "* my_neo4j_create_node('arrive West Oakland')\n",
    "\n"
   ]
  },
  {
   "cell_type": "code",
   "execution_count": 13,
   "id": "fff788a7",
   "metadata": {},
   "outputs": [],
   "source": [
    "connection.rollback()\n",
    "\n",
    "query = \"\"\"\n",
    "\n",
    "select station\n",
    "from stations\n",
    "order by station\n",
    "\n",
    "\"\"\"\n",
    "\n",
    "cursor.execute(query)\n",
    "\n",
    "connection.rollback()\n",
    "\n",
    "# We get all the stations database rows back (50) with the station\n",
    "# Each station is a node that you can depart or arrive from\n",
    "\n",
    "rows = cursor.fetchall()\n",
    "\n",
    "for row in rows:\n",
    "    \n",
    "    station = row[0]\n",
    "    \n",
    "    my_neo4j_create_node('depart ' + station)\n",
    "    my_neo4j_create_node('arrive ' + station)\n",
    "    "
   ]
  },
  {
   "cell_type": "markdown",
   "id": "52ab8a11",
   "metadata": {},
   "source": [
    "# Verify the number of nodes and relationships\n",
    "\n",
    "Since there are 50 stations, we should have 100 Nodes in the graph.\n",
    "One is labeled departStation the other arriveStation\n"
   ]
  },
  {
   "cell_type": "code",
   "execution_count": 14,
   "id": "c244708d",
   "metadata": {},
   "outputs": [
    {
     "name": "stdout",
     "output_type": "stream",
     "text": [
      "-------------------------\n",
      "  Nodes: 100\n",
      "  Relationships: 0\n",
      "-------------------------\n"
     ]
    }
   ],
   "source": [
    "# Verify graph counts\n",
    "my_neo4j_number_nodes_relationships()"
   ]
  },
  {
   "cell_type": "markdown",
   "id": "474ae6e9",
   "metadata": {},
   "source": [
    "# For all stations, create line nodes, and create relationships between the line nodes and the departure and arrival nodes with weight 0\n",
    "\n",
    "For each station X and each line Y that the station serves:\n",
    "* Create a line node\n",
    "* Create a relationship from the departure node to the line node with weight 0\n",
    "* Create a relationship from the line node to the arrival node with weight 0"
   ]
  },
  {
   "cell_type": "code",
   "execution_count": 15,
   "id": "421d3855",
   "metadata": {},
   "outputs": [],
   "source": [
    "connection.rollback()\n",
    "\n",
    "query = \"\"\"\n",
    "\n",
    "select station, line\n",
    "from lines\n",
    "order by station, line\n",
    "\n",
    "\"\"\"\n",
    "\n",
    "cursor.execute(query)\n",
    "\n",
    "connection.rollback()\n",
    "\n",
    "# The lines database has 114 rows\n",
    "# Therefore our graph of 100 nodes grows by 114 to total 214\n",
    "# We add 2 relationships for each of the 114 nodes so we get 228 relationships\n",
    "\n",
    "rows = cursor.fetchall()\n",
    "\n",
    "for row in rows:\n",
    "    \n",
    "    station = row[0]\n",
    "    line = row[1]\n",
    "    \n",
    "    depart = 'depart ' + station\n",
    "    arrive = 'arrive ' + station\n",
    "    line_station = line + ' ' + station\n",
    "    \n",
    "    my_neo4j_create_node(line_station)\n",
    "    my_neo4j_create_relationship_one_way(depart, line_station, 0)\n",
    "    my_neo4j_create_relationship_one_way(line_station, arrive, 0)\n",
    "    "
   ]
  },
  {
   "cell_type": "code",
   "execution_count": 16,
   "id": "61958f0c",
   "metadata": {},
   "outputs": [
    {
     "name": "stdout",
     "output_type": "stream",
     "text": [
      "-------------------------\n",
      "  Nodes: 214\n",
      "  Relationships: 228\n",
      "-------------------------\n"
     ]
    }
   ],
   "source": [
    "# Verify graph counts\n",
    "my_neo4j_number_nodes_relationships()"
   ]
  },
  {
   "cell_type": "markdown",
   "id": "99c38619",
   "metadata": {},
   "source": [
    "# Query the list of all possible line transfers and the transfer times, create a relationship for each transfer with the transfer time as the weight\n",
    "\n",
    "Query the list of all possible line transfers and the transfer times\n",
    "\n",
    "For each station X, from line Y, to line Z, create a relationship from Y's line node to Z's line node with the weight set to the transfer time\n"
   ]
  },
  {
   "cell_type": "code",
   "execution_count": 17,
   "id": "5f6af6df",
   "metadata": {},
   "outputs": [],
   "source": [
    "connection.rollback()\n",
    "\n",
    "query = \"\"\"\n",
    "\n",
    "select a.station, a.line as from_line, b.line as to_line, s.transfer_time\n",
    "from lines a\n",
    "     join lines b\n",
    "       on a.station = b.station and a.line <> b.line \n",
    "     join stations s\n",
    "       on a.station = s.station\n",
    "order by 1, 2, 3\n",
    "\n",
    "\"\"\"\n",
    "\n",
    "cursor.execute(query)\n",
    "\n",
    "connection.rollback()\n",
    "\n",
    "rows = cursor.fetchall()\n",
    "\n",
    "for row in rows:\n",
    "    \n",
    "    station = row[0]\n",
    "    from_line = row[1]\n",
    "    to_line = row[2]\n",
    "    transfer_time = int(row[3])\n",
    "    \n",
    "    from_station = from_line + ' ' + station\n",
    "    to_station = to_line + ' ' + station\n",
    "    \n",
    "    my_neo4j_create_relationship_one_way(from_station, to_station, transfer_time)\n"
   ]
  },
  {
   "cell_type": "code",
   "execution_count": 18,
   "id": "0457a9b7",
   "metadata": {},
   "outputs": [
    {
     "name": "stdout",
     "output_type": "stream",
     "text": [
      "-------------------------\n",
      "  Nodes: 214\n",
      "  Relationships: 436\n",
      "-------------------------\n"
     ]
    }
   ],
   "source": [
    "# Verify graph counts\n",
    "my_neo4j_number_nodes_relationships()"
   ]
  },
  {
   "cell_type": "markdown",
   "id": "e58bdd1d",
   "metadata": {},
   "source": [
    "# Query the list of all segments between each station and its adjoining stations, create a relationship for each segment both ways\n",
    "\n",
    "Query the list of all segments between each station and its adjoining stations\n",
    "\n",
    "For each segment from station X to station Y on line Z, create two relationships:\n",
    "* From X's line node to Y's line node with travel time\n",
    "* From Y's line node to X's line node with travel time\n"
   ]
  },
  {
   "cell_type": "code",
   "execution_count": 19,
   "id": "1dc33db7",
   "metadata": {},
   "outputs": [],
   "source": [
    "connection.rollback()\n",
    "\n",
    "query = \"\"\"\n",
    "\n",
    "select a.line, a.station as from_station, b.station as to_station, t.travel_time\n",
    "from lines a\n",
    "  join lines b\n",
    "    on a.line = b.line and b.sequence = (a.sequence + 1)\n",
    "  join travel_times t\n",
    "    on (a.station = t.station_1 and b.station = t.station_2)\n",
    "        or (a.station = t.station_2 and b.station = t.station_1)\n",
    "order by line, from_station, to_station\n",
    "\n",
    "\"\"\"\n",
    "\n",
    "cursor.execute(query)\n",
    "\n",
    "connection.rollback()\n",
    "\n",
    "rows = cursor.fetchall()\n",
    "\n",
    "for row in rows:\n",
    "    \n",
    "    line = row[0]\n",
    "    from_station = line + ' ' + row[1]\n",
    "    to_station = line + ' ' + row[2]\n",
    "    travel_time = int(row[3])\n",
    "    \n",
    "    my_neo4j_create_relationship_two_way(from_station, to_station, travel_time)\n",
    "    "
   ]
  },
  {
   "cell_type": "code",
   "execution_count": 20,
   "id": "f0a0da16",
   "metadata": {},
   "outputs": [
    {
     "name": "stdout",
     "output_type": "stream",
     "text": [
      "-------------------------\n",
      "  Nodes: 214\n",
      "  Relationships: 652\n",
      "-------------------------\n"
     ]
    }
   ],
   "source": [
    "# Verify graph counts\n",
    "my_neo4j_number_nodes_relationships()"
   ]
  },
  {
   "cell_type": "markdown",
   "id": "ac62a430",
   "metadata": {},
   "source": [
    "# Verify the graph we just built checking shortest paths\n"
   ]
  },
  {
   "cell_type": "code",
   "execution_count": 21,
   "id": "249329cc",
   "metadata": {},
   "outputs": [],
   "source": [
    "def my_neo4j_shortest_path(from_station, to_station):\n",
    "    \"given a from station and to station, run and print the shortest path\"\n",
    "    \n",
    "    query = \"CALL gds.graph.drop('ds_graph', false)\"\n",
    "    session.run(query)\n",
    "\n",
    "    query = \"CALL gds.graph.project('ds_graph', 'Station', 'LINK', {relationshipProperties: 'weight'})\"\n",
    "    session.run(query)\n",
    "\n",
    "    query = \"\"\"\n",
    "\n",
    "    MATCH (source:Station {name: $source}), (target:Station {name: $target})\n",
    "    CALL gds.shortestPath.dijkstra.stream(\n",
    "        'ds_graph', \n",
    "        { sourceNode: source, \n",
    "          targetNode: target, \n",
    "          relationshipWeightProperty: 'weight'\n",
    "        }\n",
    "    )\n",
    "    YIELD index, sourceNode, targetNode, totalCost, nodeIds, costs, path\n",
    "    RETURN\n",
    "        gds.util.asNode(sourceNode).name AS from,\n",
    "        gds.util.asNode(targetNode).name AS to,\n",
    "        totalCost,\n",
    "        [nodeId IN nodeIds | gds.util.asNode(nodeId).name] AS nodes,\n",
    "        costs\n",
    "    ORDER BY index\n",
    "\n",
    "    \"\"\"\n",
    "\n",
    "    result = session.run(query, source=from_station, target=to_station)\n",
    "    \n",
    "    for r in result:\n",
    "        \n",
    "        total_cost = int(r['totalCost'])\n",
    "        \n",
    "        print(\"\\n--------------------------------\")\n",
    "        print(\"   Total Cost: \", total_cost)\n",
    "        print(\"   Minutes: \", round(total_cost / 60.0,1))\n",
    "        print(\"--------------------------------\")\n",
    "        \n",
    "        nodes = r['nodes']\n",
    "        costs = r['costs']\n",
    "        \n",
    "        i = 0\n",
    "        previous = 0\n",
    "        \n",
    "        for n in nodes:\n",
    "            \n",
    "            print(n + \", \" + str(int(costs[i]) - previous)  + \", \" + str(int(costs[i])))\n",
    "            \n",
    "            previous = int(costs[i])\n",
    "            i += 1\n",
    "    "
   ]
  },
  {
   "cell_type": "code",
   "execution_count": 22,
   "id": "b27f93d0",
   "metadata": {},
   "outputs": [
    {
     "name": "stdout",
     "output_type": "stream",
     "text": [
      "\n",
      "--------------------------------\n",
      "   Total Cost:  5813\n",
      "   Minutes:  96.9\n",
      "--------------------------------\n",
      "depart Dublin, 0, 0\n",
      "blue Dublin, 0, 0\n",
      "blue West Dublin, 180, 180\n",
      "blue Castro Valley, 600, 780\n",
      "blue Bay Fair, 240, 1020\n",
      "blue San Leandro, 240, 1260\n",
      "blue Coliseum, 240, 1500\n",
      "orange Coliseum, 54, 1554\n",
      "orange Fruitvale, 240, 1794\n",
      "orange Lake Merritt, 300, 2094\n",
      "orange 12th Street, 180, 2274\n",
      "orange 19th Street, 120, 2394\n",
      "orange MacArthur, 180, 2574\n",
      "yellow MacArthur, 59, 2633\n",
      "yellow Rockridge, 240, 2873\n",
      "yellow Orinda, 300, 3173\n",
      "yellow Lafayette, 300, 3473\n",
      "yellow Walnut Creek, 300, 3773\n",
      "yellow Pleasant Hill, 120, 3893\n",
      "yellow Concord, 360, 4253\n",
      "yellow North Concord, 180, 4433\n",
      "yellow Pittsburg, 360, 4793\n",
      "yellow Pittsburg Center, 600, 5393\n",
      "yellow Antioch, 420, 5813\n",
      "arrive Antioch, 0, 5813\n"
     ]
    }
   ],
   "source": [
    "my_neo4j_shortest_path('depart Dublin', 'arrive Antioch')"
   ]
  },
  {
   "cell_type": "code",
   "execution_count": 23,
   "id": "e113e560",
   "metadata": {},
   "outputs": [
    {
     "name": "stdout",
     "output_type": "stream",
     "text": [
      "\n",
      "--------------------------------\n",
      "   Total Cost:  3882\n",
      "   Minutes:  64.7\n",
      "--------------------------------\n",
      "depart SFO, 0, 0\n",
      "yellow SFO, 0, 0\n",
      "yellow San Bruno, 240, 240\n",
      "yellow South San Francisco, 240, 480\n",
      "yellow Colma, 180, 660\n",
      "yellow Daly City, 240, 900\n",
      "yellow Balboa Park, 240, 1140\n",
      "green Balboa Park, 48, 1188\n",
      "green Glen Park, 120, 1308\n",
      "green 24th Street Mission, 180, 1488\n",
      "green 16th Street Mission, 120, 1608\n",
      "green Civic Center, 180, 1788\n",
      "green Powell Street, 60, 1848\n",
      "green Montgomery Street, 120, 1968\n",
      "green Embarcadero, 60, 2028\n",
      "green West Oakland, 420, 2448\n",
      "green Lake Merritt, 360, 2808\n",
      "green Fruitvale, 300, 3108\n",
      "green Coliseum, 240, 3348\n",
      "gray Coliseum, 54, 3402\n",
      "gray OAK, 480, 3882\n",
      "arrive OAK, 0, 3882\n"
     ]
    }
   ],
   "source": [
    "my_neo4j_shortest_path('depart SFO', 'arrive OAK')"
   ]
  },
  {
   "cell_type": "code",
   "execution_count": 24,
   "id": "bc6a5e25",
   "metadata": {},
   "outputs": [
    {
     "name": "stdout",
     "output_type": "stream",
     "text": [
      "\n",
      "--------------------------------\n",
      "   Total Cost:  7019\n",
      "   Minutes:  117.0\n",
      "--------------------------------\n",
      "depart Antioch, 0, 0\n",
      "yellow Antioch, 0, 0\n",
      "yellow Pittsburg Center, 420, 420\n",
      "yellow Pittsburg, 600, 1020\n",
      "yellow North Concord, 360, 1380\n",
      "yellow Concord, 180, 1560\n",
      "yellow Pleasant Hill, 360, 1920\n",
      "yellow Walnut Creek, 120, 2040\n",
      "yellow Lafayette, 300, 2340\n",
      "yellow Orinda, 300, 2640\n",
      "yellow Rockridge, 300, 2940\n",
      "yellow MacArthur, 240, 3180\n",
      "orange MacArthur, 59, 3239\n",
      "orange 19th Street, 180, 3419\n",
      "orange 12th Street, 120, 3539\n",
      "orange Lake Merritt, 180, 3719\n",
      "orange Fruitvale, 300, 4019\n",
      "orange Coliseum, 240, 4259\n",
      "orange San Leandro, 240, 4499\n",
      "orange Bay Fair, 240, 4739\n",
      "orange Hayward, 240, 4979\n",
      "orange South Hayward, 240, 5219\n",
      "orange Union City, 300, 5519\n",
      "orange Fremont, 300, 5819\n",
      "orange Warm Springs, 360, 6179\n",
      "orange Milpitas, 540, 6719\n",
      "orange Berryessa, 300, 7019\n",
      "arrive Berryessa, 0, 7019\n"
     ]
    }
   ],
   "source": [
    "my_neo4j_shortest_path('depart Antioch', 'arrive Berryessa')"
   ]
  },
  {
   "cell_type": "code",
   "execution_count": null,
   "id": "dca335fd",
   "metadata": {},
   "outputs": [],
   "source": []
  }
 ],
 "metadata": {
  "kernelspec": {
   "display_name": "Python 3 (ipykernel)",
   "language": "python",
   "name": "python3"
  },
  "language_info": {
   "codemirror_mode": {
    "name": "ipython",
    "version": 3
   },
   "file_extension": ".py",
   "mimetype": "text/x-python",
   "name": "python",
   "nbconvert_exporter": "python",
   "pygments_lexer": "ipython3",
   "version": "3.9.7"
  }
 },
 "nbformat": 4,
 "nbformat_minor": 5
}
