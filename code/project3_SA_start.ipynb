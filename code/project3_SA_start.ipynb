{
 "cells": [
  {
   "cell_type": "markdown",
   "id": "f8e110d6",
   "metadata": {},
   "source": [
    "### University of California, Berkeley\n",
    "### Master of Information and Data Science Program (MIDS)\n",
    "### w205 - Fundamentals of Data Engineering\n",
    "### Project 3\n",
    "\n",
    "* Year: 2024\n",
    "* Semester: Spring\n",
    "* Section: 6 Weds 4pPT\n",
    "* Instructor: Schioberg\n",
    "* Team Members:\n",
    "    * Tim Majidzadeh\n",
    "    * Karen Orozco\n",
    "    * Jacob Jones\n",
    "    * Reese Carlton\n",
    "    * Scott Abramson\n"
   ]
  },
  {
   "cell_type": "markdown",
   "id": "1268c146",
   "metadata": {},
   "source": [
    "### Making AGMs Vision Come to Life with Data Science\n",
    "\n",
    "The Data Science Team is excited to demonstrate how we can leverage the data we have to propel\n",
    "AGM's business forward. We plan to show how we can take the IT team's 3NF databases describing our\n",
    "business and use it to inform new business opportunities by pairing it with state of the art\n",
    "NoSQL database technology.  Our strategy includes\n",
    "\n",
    "* Use the BART infrastructure to deliver meals to locations outside our stores\n",
    "* Utilize key BART stations as satellite pick-up locations\n",
    "* Setup a delivery network of robots who can take meals the last mile from a BART station\n",
    "* Leverage machine learning to manage the shelf life of our meal inventory\n",
    "* Leverage machine learning to manage moving inventory throughout the network to optimize supply\n",
    "\n"
   ]
  },
  {
   "cell_type": "markdown",
   "id": "ab9d01b5",
   "metadata": {},
   "source": [
    "### The Power of NoSQL + SQL\n",
    "\n",
    "NoSQL databases, and in particular, graph databases like Neo4J help us analyze business problems in new and exciting ways. While a SQL database could be used to solve some of these problems, it would involve a significant amount of supplemental analysis code that a graph database solves rapidly and more naturally. In particular, graph databases are very effective in analyzing network and route problems. We can use a graph database to answer our questions about how to best leverage existing BART infrastructure to deliver meals.  Therefore, we will combine our OLTP SQL database with the analytical power of a Neo4j graph database to demonstrate how we can help make AGMs strategic vision come to life!\n",
    "\n"
   ]
  },
  {
   "cell_type": "code",
   "execution_count": null,
   "id": "abf9241e",
   "metadata": {},
   "outputs": [],
   "source": []
  }
 ],
 "metadata": {
  "kernelspec": {
   "display_name": "Python 3 (ipykernel)",
   "language": "python",
   "name": "python3"
  },
  "language_info": {
   "codemirror_mode": {
    "name": "ipython",
    "version": 3
   },
   "file_extension": ".py",
   "mimetype": "text/x-python",
   "name": "python",
   "nbconvert_exporter": "python",
   "pygments_lexer": "ipython3",
   "version": "3.9.7"
  }
 },
 "nbformat": 4,
 "nbformat_minor": 5
}
