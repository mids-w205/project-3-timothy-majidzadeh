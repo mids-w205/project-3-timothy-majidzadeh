{
 "cells": [
  {
   "cell_type": "markdown",
   "id": "f8e110d6",
   "metadata": {},
   "source": [
    "### University of California, Berkeley\n",
    "### Master of Information and Data Science Program (MIDS)\n",
    "### w205 - Fundamentals of Data Engineering\n",
    "### Project 3\n",
    "\n",
    "* Year: 2024\n",
    "* Semester: Spring\n",
    "* Section: 6 Weds 4pPT\n",
    "* Instructor: Schioberg\n",
    "* Team Members:\n",
    "    * Tim Majidzadeh\n",
    "    * Karen Orozco\n",
    "    * Jacob Jones\n",
    "    * Reese Carlton\n",
    "    * Scott Abramson\n"
   ]
  },
  {
   "cell_type": "markdown",
   "id": "1268c146",
   "metadata": {},
   "source": [
    "### Making AGMs Vision Come to Life with Data Science\n",
    "\n",
    "The Data Science Team is excited to demonstrate how we can leverage the data we have to propel\n",
    "AGM's business forward. We plan to show how we can take the IT team's 3NF databases describing our\n",
    "business and use it to inform new business opportunities by pairing it with state of the art\n",
    "NoSQL database technology.  Our strategy includes\n",
    "\n",
    "* Use the BART infrastructure to deliver meals to locations outside our stores\n",
    "* Setup a delivery network of drones who can take meals the last mile from a BART station\n",
    "* Leverage machine learning to manage the shelf life of our meal inventory\n",
    "\n"
   ]
  },
  {
   "cell_type": "code",
   "execution_count": null,
   "id": "a72b92a0",
   "metadata": {},
   "outputs": [],
   "source": []
  }
 ],
 "metadata": {
  "kernelspec": {
   "display_name": "Python 3 (ipykernel)",
   "language": "python",
   "name": "python3"
  },
  "language_info": {
   "codemirror_mode": {
    "name": "ipython",
    "version": 3
   },
   "file_extension": ".py",
   "mimetype": "text/x-python",
   "name": "python",
   "nbconvert_exporter": "python",
   "pygments_lexer": "ipython3",
   "version": "3.9.7"
  }
 },
 "nbformat": 4,
 "nbformat_minor": 5
}
